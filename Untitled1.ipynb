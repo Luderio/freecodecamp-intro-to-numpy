{
 "cells": [
  {
   "cell_type": "code",
   "execution_count": 24,
   "id": "5646e821-e270-47ae-8b25-048eadd29bd3",
   "metadata": {},
   "outputs": [],
   "source": [
    "import numpy as np"
   ]
  },
  {
   "cell_type": "code",
   "execution_count": 25,
   "id": "84fc6519-9d8e-4962-bfa8-eef78bb7cb4c",
   "metadata": {},
   "outputs": [],
   "source": [
    "numpyArray = np.array([0,1,2,3,4,5,6,7,8])"
   ]
  },
  {
   "cell_type": "code",
   "execution_count": 26,
   "id": "eef5b2bd-d722-42e4-9c0b-53af17d115e9",
   "metadata": {},
   "outputs": [
    {
     "data": {
      "text/plain": [
       "array([[0, 1, 2],\n",
       "       [3, 4, 5],\n",
       "       [6, 7, 8]])"
      ]
     },
     "execution_count": 26,
     "metadata": {},
     "output_type": "execute_result"
    }
   ],
   "source": [
    "arrayMatrix = numpyArray.reshape(3, 3)\n",
    "arrayMatrix"
   ]
  },
  {
   "cell_type": "code",
   "execution_count": 27,
   "id": "3be73a13-1b57-4386-910c-620d4dc4e95f",
   "metadata": {},
   "outputs": [
    {
     "data": {
      "text/plain": [
       "array([3., 4., 5.])"
      ]
     },
     "execution_count": 27,
     "metadata": {},
     "output_type": "execute_result"
    }
   ],
   "source": [
    "arrayMatrix.mean(axis=0)"
   ]
  },
  {
   "cell_type": "code",
   "execution_count": 28,
   "id": "35264484-255d-4a4b-9caf-697195fe6da1",
   "metadata": {},
   "outputs": [
    {
     "data": {
      "text/plain": [
       "dtype('int32')"
      ]
     },
     "execution_count": 28,
     "metadata": {},
     "output_type": "execute_result"
    }
   ],
   "source": [
    "arrayMatrix.dtype"
   ]
  },
  {
   "cell_type": "code",
   "execution_count": 30,
   "id": "ba769d14-a501-4965-a41f-00396ed7a470",
   "metadata": {},
   "outputs": [
    {
     "data": {
      "text/plain": [
       "dtype('float64')"
      ]
     },
     "execution_count": 30,
     "metadata": {},
     "output_type": "execute_result"
    }
   ],
   "source": [
    "arrayMatrix = arrayMatrix.astype(np.float64)\n",
    "arrayMatrix.dtype"
   ]
  }
 ],
 "metadata": {
  "kernelspec": {
   "display_name": "Python 3 (ipykernel)",
   "language": "python",
   "name": "python3"
  },
  "language_info": {
   "codemirror_mode": {
    "name": "ipython",
    "version": 3
   },
   "file_extension": ".py",
   "mimetype": "text/x-python",
   "name": "python",
   "nbconvert_exporter": "python",
   "pygments_lexer": "ipython3",
   "version": "3.10.2"
  }
 },
 "nbformat": 4,
 "nbformat_minor": 5
}
